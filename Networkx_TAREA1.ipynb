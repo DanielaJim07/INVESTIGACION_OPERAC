{
  "nbformat": 4,
  "nbformat_minor": 0,
  "metadata": {
    "colab": {
      "provenance": [],
      "authorship_tag": "ABX9TyNmX9h2WfQVPQTfMIgh1N8u",
      "include_colab_link": true
    },
    "kernelspec": {
      "name": "python3",
      "display_name": "Python 3"
    },
    "language_info": {
      "name": "python"
    }
  },
  "cells": [
    {
      "cell_type": "markdown",
      "metadata": {
        "id": "view-in-github",
        "colab_type": "text"
      },
      "source": [
        "<a href=\"https://colab.research.google.com/github/DanielaJim07/INVESTIGACION_OPERAC/blob/main/Networkx_TAREA1.ipynb\" target=\"_parent\"><img src=\"https://colab.research.google.com/assets/colab-badge.svg\" alt=\"Open In Colab\"/></a>"
      ]
    },
    {
      "cell_type": "markdown",
      "source": [
        "#NETWORKX\n",
        "\n",
        "04/09/25\n",
        "\n",
        "Es una librería de Python diseñada para la creación, manipulación y análisis de grafos y redes complejas.\n",
        "\n",
        "+Un grafo es una estructura matemática compuesta por:\n",
        "\n",
        "+Nodos (o vértices): representan entidades (personas, ciudades, computadoras, etc.).\n",
        "\n",
        "+Aristas (o edges):representan relaciones entre nodos (amistades, rutas, conexiones, etc.).\n",
        "\n",
        "El análisis de redes, también conocido como ciencia de redes o teoría de grafos, es el estudio de sistemas complejos compuestos por entidades interconectadas. Con el auge del big data, el análisis de redes ha cobrado cada vez más importancia en diversos campos, como las ciencias sociales, la biología, las finanzas y la informática. Este artículo introduce, mediante de un ejemplo, los conceptos básicos del análisis de redes y su visualización. Se muestra cómo crear y manipular redes, medir sus propiedades y descubrir comunidades y patrones.\n",
        "\n",
        "##Características\n",
        "\n",
        "\n",
        "-Crear grafos dirigidos o no dirigidos.\n",
        "\n",
        "-Añadir atributos a nodos y aristas (ej. pesos, etiquetas).\n",
        "\n",
        "-Calcular medidas de redes: centralidad, conectividad, clustering, caminos más cortos, etc.\n",
        "\n",
        "-Visualizar grafos con matplotlib o integrarlo con otras librerías gráficas."
      ],
      "metadata": {
        "id": "6bHYPg5uwNJI"
      }
    },
    {
      "cell_type": "markdown",
      "source": [
        "###Libreria"
      ],
      "metadata": {
        "id": "bzPASYMG3SqE"
      }
    },
    {
      "cell_type": "markdown",
      "source": [
        "1. Primero importamos la libreria \"networkx\" que la llamaremos con \"nx\""
      ],
      "metadata": {
        "id": "DaNOgI-7wMlR"
      }
    },
    {
      "cell_type": "code",
      "execution_count": 3,
      "metadata": {
        "id": "xOAY8eGhvu8r"
      },
      "outputs": [],
      "source": [
        "import networkx as nx"
      ]
    },
    {
      "cell_type": "markdown",
      "source": [
        "###Creación de la red"
      ],
      "metadata": {
        "id": "TXFVpiQA3oty"
      }
    },
    {
      "cell_type": "markdown",
      "source": [
        "2. Nombramos al grafo G"
      ],
      "metadata": {
        "id": "3SDJpKBTxBP5"
      }
    },
    {
      "cell_type": "code",
      "source": [
        "G=nx.DiGraph()"
      ],
      "metadata": {
        "id": "NGIMqArYxF4l"
      },
      "execution_count": 4,
      "outputs": []
    },
    {
      "cell_type": "markdown",
      "source": [
        "Al diagrama añadimos los nodos \"A\" y \"B\", con una distancia de 2"
      ],
      "metadata": {
        "id": "Oz79fDMJxLZc"
      }
    },
    {
      "cell_type": "code",
      "source": [
        "G.add_edge(\"A\",\"B\", capacity=2)"
      ],
      "metadata": {
        "id": "V3skPbeUxLx8"
      },
      "execution_count": 5,
      "outputs": []
    },
    {
      "cell_type": "markdown",
      "source": [
        "Una parte fundamental del análisis de redes es la exploración gráfica.Visualizamos el diagrama con:"
      ],
      "metadata": {
        "id": "A5LULxdmxevo"
      }
    },
    {
      "cell_type": "code",
      "source": [
        "nx.draw_networkx(G)"
      ],
      "metadata": {
        "colab": {
          "base_uri": "https://localhost:8080/",
          "height": 406
        },
        "id": "mwrMLIhAxkly",
        "outputId": "138b2876-c421-48fa-f875-16f84ae9c377"
      },
      "execution_count": 6,
      "outputs": [
        {
          "output_type": "display_data",
          "data": {
            "text/plain": [
              "<Figure size 640x480 with 1 Axes>"
            ],
            "image/png": "[encoded data removed]"
          },
          "metadata": {}
        }
      ]
    },
    {
      "cell_type": "markdown",
      "source": [
        "Se agregan al Diagrama los demas nodos y sus arcos\n",
        "\n"
      ],
      "metadata": {
        "id": "hiTDKqK3xpdb"
      }
    },
    {
      "cell_type": "code",
      "source": [
        "G.add_edge(\"B\",\"C\",capacity=2)\n",
        "G.add_edge(\"C\",\"D\",capacity=2)\n",
        "G.add_edge(\"B\",\"D\",capacity=2)\n",
        "G.add_edge(\"A\",\"C\",capacity=2)"
      ],
      "metadata": {
        "id": "Rxn0lr53xwRt"
      },
      "execution_count": 7,
      "outputs": []
    },
    {
      "cell_type": "markdown",
      "source": [
        "Ahora visualiamos el diagrama completo:"
      ],
      "metadata": {
        "id": "XLpWfBv8ynVH"
      }
    },
    {
      "cell_type": "markdown",
      "source": [
        "(agregando un color a los nodos)"
      ],
      "metadata": {
        "id": "XYF34DI4ynBi"
      }
    },
    {
      "cell_type": "code",
      "source": [
        "nx.draw_networkx(G,node_color='#bb22bb')"
      ],
      "metadata": {
        "colab": {
          "base_uri": "https://localhost:8080/",
          "height": 406
        },
        "id": "kjJI0aHPymMG",
        "outputId": "3c3ee334-0ce6-4576-ef4c-d4c3b78d9d49"
      },
      "execution_count": 9,
      "outputs": [
        {
          "output_type": "display_data",
          "data": {
            "text/plain": [
              "<Figure size 640x480 with 1 Axes>"
            ],
            "image/png": "[encoded data removed]"
          },
          "metadata": {}
        }
      ]
    },
    {
      "cell_type": "markdown",
      "source": [
        "Se pueden consultar los vértices y las aristas de una gráfica mediante los atributos nodes y edges respectivamente."
      ],
      "metadata": {
        "id": "RXAewvPox1IS"
      }
    },
    {
      "cell_type": "code",
      "source": [
        "nx.nodes(G)"
      ],
      "metadata": {
        "colab": {
          "base_uri": "https://localhost:8080/"
        },
        "id": "sMOUWOP5x0I9",
        "outputId": "6e1ff9fb-7f30-49e5-9d6a-c21ee2e2a0c1"
      },
      "execution_count": 10,
      "outputs": [
        {
          "output_type": "execute_result",
          "data": {
            "text/plain": [
              "NodeView(('A', 'B', 'C', 'D'))"
            ]
          },
          "metadata": {},
          "execution_count": 10
        }
      ]
    },
    {
      "cell_type": "code",
      "source": [
        "nx.edges(G)"
      ],
      "metadata": {
        "colab": {
          "base_uri": "https://localhost:8080/"
        },
        "id": "QzZLcwjXx75t",
        "outputId": "530c34d7-bf98-43bd-c3c5-63d2f73a1187"
      },
      "execution_count": 11,
      "outputs": [
        {
          "output_type": "execute_result",
          "data": {
            "text/plain": [
              "OutEdgeView([('A', 'B'), ('A', 'C'), ('B', 'C'), ('B', 'D'), ('C', 'D')])"
            ]
          },
          "metadata": {},
          "execution_count": 11
        }
      ]
    },
    {
      "cell_type": "code",
      "source": [
        "nx.number_of_nodes(G) #NUMERO DE NODOS"
      ],
      "metadata": {
        "colab": {
          "base_uri": "https://localhost:8080/"
        },
        "id": "vDwVkrlnzR0C",
        "outputId": "a45203c7-16af-4a16-ba96-c898b94d613d"
      },
      "execution_count": 14,
      "outputs": [
        {
          "output_type": "execute_result",
          "data": {
            "text/plain": [
              "4"
            ]
          },
          "metadata": {},
          "execution_count": 14
        }
      ]
    },
    {
      "cell_type": "markdown",
      "source": [
        "Podemos examinar los nodos y las aristas. Con: G.nodes, G.edges, G.adjy G.degree. Estas son vistas de conjunto de los nodos, aristas, vecinos (adyacencias) y grados de los nodos en un grafo. Ofrecen una vista de solo lectura continuamente actualizada de la estructura del grafo. También son similares a los diccionarios, ya que permiten consultar los atributos de datos de nodos y aristas a través de las vistas e iterar con los atributos de datos mediante los métodos .items(), .data(). Si se desea un tipo de contenedor específico en lugar de una vista, se puede especificar uno"
      ],
      "metadata": {
        "id": "8JMc80SLyIpS"
      }
    },
    {
      "cell_type": "markdown",
      "source": [
        "###Grado\n",
        "El grado (degree) es una medida sencilla que se basa en el número de enlaces que tiene un nodo. Acorde a esta métrica, los nodos con un alto grado de centralidad son los que están conectados directamente a muchos otros nodos de la red."
      ],
      "metadata": {
        "id": "ipNuubf74W38"
      }
    },
    {
      "cell_type": "code",
      "source": [
        "grado=nx.degree(G)\n",
        "grado\n"
      ],
      "metadata": {
        "colab": {
          "base_uri": "https://localhost:8080/"
        },
        "id": "w7A2H3zN4Vup",
        "outputId": "bd83719f-c5d7-40e4-80ca-8d10ec5a12e1"
      },
      "execution_count": 16,
      "outputs": [
        {
          "output_type": "execute_result",
          "data": {
            "text/plain": [
              "DiDegreeView({'A': 2, 'B': 3, 'C': 3, 'D': 2})"
            ]
          },
          "metadata": {},
          "execution_count": 16
        }
      ]
    }
  ]
}