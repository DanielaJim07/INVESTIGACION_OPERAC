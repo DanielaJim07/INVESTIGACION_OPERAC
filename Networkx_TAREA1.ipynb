{
  "nbformat": 4,
  "nbformat_minor": 0,
  "metadata": {
    "colab": {
      "provenance": [],
      "authorship_tag": "ABX9TyMJ4C6G0WpB2/pZt+04cDcp",
      "include_colab_link": true
    },
    "kernelspec": {
      "name": "python3",
      "display_name": "Python 3"
    },
    "language_info": {
      "name": "python"
    }
  },
  "cells": [
    {
      "cell_type": "markdown",
      "metadata": {
        "id": "view-in-github",
        "colab_type": "text"
      },
      "source": [
        "<a href=\"https://colab.research.google.com/github/DanielaJim07/INVESTIGACION_OPERAC/blob/main/Networkx_TAREA1.ipynb\" target=\"_parent\"><img src=\"https://colab.research.google.com/assets/colab-badge.svg\" alt=\"Open In Colab\"/></a>"
      ]
    },
    {
      "cell_type": "markdown",
      "source": [
        "#NETWORKX\n",
        "\n",
        "04/09/25\n",
        "\n",
        "Es una librería de Python diseñada para la creación, manipulación y análisis de grafos y redes complejas.\n",
        "\n",
        "+Un grafo es una estructura matemática compuesta por:\n",
        "\n",
        "+Nodos (o vértices): representan entidades (personas, ciudades, computadoras, etc.).\n",
        "\n",
        "+Aristas (o edges):representan relaciones entre nodos (amistades, rutas, conexiones, etc.).\n",
        "\n",
        "El análisis de redes, también conocido como ciencia de redes o teoría de grafos, es el estudio de sistemas complejos compuestos por entidades interconectadas. Con el auge del big data, el análisis de redes ha cobrado cada vez más importancia en diversos campos, como las ciencias sociales, la biología, las finanzas y la informática. E\n",
        "##Características\n",
        "\n",
        "\n",
        "-Crear grafos dirigidos o no dirigidos.\n",
        "\n",
        "-Añadir atributos a nodos y aristas (ej. pesos, etiquetas).\n",
        "\n",
        "-Calcular medidas de redes: centralidad, conectividad, clustering, caminos más cortos, etc.\n",
        "\n",
        "-Visualizar grafos con matplotlib o integrarlo con otras librerías gráficas."
      ],
      "metadata": {
        "id": "6bHYPg5uwNJI"
      }
    },
    {
      "cell_type": "markdown",
      "source": [
        "###Libreria"
      ],
      "metadata": {
        "id": "bzPASYMG3SqE"
      }
    },
    {
      "cell_type": "markdown",
      "source": [
        "1. Primero importamos la libreria \"networkx\" que la llamaremos con \"nx\""
      ],
      "metadata": {
        "id": "DaNOgI-7wMlR"
      }
    },
    {
      "cell_type": "code",
      "execution_count": 4,
      "metadata": {
        "id": "xOAY8eGhvu8r"
      },
      "outputs": [],
      "source": [
        "import networkx as nx"
      ]
    },
    {
      "cell_type": "markdown",
      "source": [
        "###Creación de la red"
      ],
      "metadata": {
        "id": "TXFVpiQA3oty"
      }
    },
    {
      "cell_type": "markdown",
      "source": [
        "2. Nombramos al grafo G"
      ],
      "metadata": {
        "id": "3SDJpKBTxBP5"
      }
    },
    {
      "cell_type": "code",
      "source": [
        "G=nx.DiGraph()"
      ],
      "metadata": {
        "id": "NGIMqArYxF4l"
      },
      "execution_count": 5,
      "outputs": []
    },
    {
      "cell_type": "markdown",
      "source": [
        "Al diagrama añadimos los nodos \"A\" y \"B\", con una distancia de 2"
      ],
      "metadata": {
        "id": "Oz79fDMJxLZc"
      }
    },
    {
      "cell_type": "code",
      "source": [
        "G.add_edge(\"A\",\"B\", capacity=2)"
      ],
      "metadata": {
        "id": "V3skPbeUxLx8"
      },
      "execution_count": 6,
      "outputs": []
    },
    {
      "cell_type": "markdown",
      "source": [
        "Una parte fundamental del análisis de redes es la exploración gráfica.Visualizamos el diagrama con:"
      ],
      "metadata": {
        "id": "A5LULxdmxevo"
      }
    },
    {
      "cell_type": "code",
      "source": [
        "nx.draw_networkx(G)"
      ],
      "metadata": {
        "colab": {
          "base_uri": "https://localhost:8080/",
          "height": 406
        },
        "id": "mwrMLIhAxkly",
        "outputId": "334cd6ba-d009-423f-bd5c-4cd953ae3f63"
      },
      "execution_count": 7,
      "outputs": [
        {
          "output_type": "display_data",
          "data": {
            "text/plain": [
              "<Figure size 640x480 with 1 Axes>"
            ],
            "image/png": "[encoded data removed]"
          },
          "metadata": {}
        }
      ]
    },
    {
      "cell_type": "markdown",
      "source": [
        "Se agregan al Diagrama los demas nodos y sus arcos\n",
        "\n"
      ],
      "metadata": {
        "id": "hiTDKqK3xpdb"
      }
    },
    {
      "cell_type": "code",
      "source": [
        "G.add_edge(\"B\",\"C\",capacity=2)\n",
        "G.add_edge(\"C\",\"D\",capacity=2)\n",
        "G.add_edge(\"B\",\"D\",capacity=2)\n",
        "G.add_edge(\"A\",\"C\",capacity=2)"
      ],
      "metadata": {
        "id": "Rxn0lr53xwRt"
      },
      "execution_count": 8,
      "outputs": []
    },
    {
      "cell_type": "markdown",
      "source": [
        "Ahora visualiamos el diagrama completo:"
      ],
      "metadata": {
        "id": "XLpWfBv8ynVH"
      }
    },
    {
      "cell_type": "markdown",
      "source": [
        "(agregando un color a los nodos)"
      ],
      "metadata": {
        "id": "XYF34DI4ynBi"
      }
    },
    {
      "cell_type": "code",
      "source": [
        "nx.draw_networkx(G,node_color='#bb22bb')"
      ],
      "metadata": {
        "colab": {
          "base_uri": "https://localhost:8080/",
          "height": 406
        },
        "id": "kjJI0aHPymMG",
        "outputId": "c034e923-ae20-49bf-d70d-2a4bb8e39634"
      },
      "execution_count": 9,
      "outputs": [
        {
          "output_type": "display_data",
          "data": {
            "text/plain": [
              "<Figure size 640x480 with 1 Axes>"
            ],
            "image/png": "[encoded data removed]"
          },
          "metadata": {}
        }
      ]
    },
    {
      "cell_type": "markdown",
      "source": [
        "Se pueden consultar los vértices y las aristas de una gráfica mediante los atributos nodes y edges respectivamente."
      ],
      "metadata": {
        "id": "RXAewvPox1IS"
      }
    },
    {
      "cell_type": "code",
      "source": [
        "nx.nodes(G)"
      ],
      "metadata": {
        "colab": {
          "base_uri": "https://localhost:8080/"
        },
        "id": "sMOUWOP5x0I9",
        "outputId": "76dc74c8-6515-4324-d49c-011d54e4ed5f"
      },
      "execution_count": 10,
      "outputs": [
        {
          "output_type": "execute_result",
          "data": {
            "text/plain": [
              "NodeView(('A', 'B', 'C', 'D'))"
            ]
          },
          "metadata": {},
          "execution_count": 10
        }
      ]
    },
    {
      "cell_type": "code",
      "source": [
        "nx.edges(G)"
      ],
      "metadata": {
        "colab": {
          "base_uri": "https://localhost:8080/"
        },
        "id": "QzZLcwjXx75t",
        "outputId": "8502de40-e57c-44df-f2d3-cfcfc018fdf7"
      },
      "execution_count": 11,
      "outputs": [
        {
          "output_type": "execute_result",
          "data": {
            "text/plain": [
              "OutEdgeView([('A', 'B'), ('A', 'C'), ('B', 'C'), ('B', 'D'), ('C', 'D')])"
            ]
          },
          "metadata": {},
          "execution_count": 11
        }
      ]
    },
    {
      "cell_type": "code",
      "source": [
        "nx.number_of_nodes(G) #NUMERO DE NODOS"
      ],
      "metadata": {
        "colab": {
          "base_uri": "https://localhost:8080/"
        },
        "id": "vDwVkrlnzR0C",
        "outputId": "ec6b7fe5-1f3d-4411-dce5-953e35e36dd6"
      },
      "execution_count": 12,
      "outputs": [
        {
          "output_type": "execute_result",
          "data": {
            "text/plain": [
              "4"
            ]
          },
          "metadata": {},
          "execution_count": 12
        }
      ]
    },
    {
      "cell_type": "markdown",
      "source": [
        "Podemos examinar los nodos y las aristas. Con: G.nodes, G.edges, G.adjy G.degree. Estas son vistas de conjunto de los nodos, aristas, vecinos (adyacencias) y grados de los nodos en un grafo. Ofrecen una vista de solo lectura continuamente actualizada de la estructura del grafo. También son similares a los diccionarios, ya que permiten consultar los atributos de datos de nodos y aristas a través de las vistas e iterar con los atributos de datos mediante los métodos .items(), .data(). Si se desea un tipo de contenedor específico en lugar de una vista, se puede especificar uno"
      ],
      "metadata": {
        "id": "8JMc80SLyIpS"
      }
    },
    {
      "cell_type": "markdown",
      "source": [
        "###Grado\n",
        "El grado (degree) es una medida sencilla que se basa en el número de enlaces que tiene un nodo. Acorde a esta métrica, los nodos con un alto grado de centralidad son los que están conectados directamente a muchos otros nodos de la red."
      ],
      "metadata": {
        "id": "ipNuubf74W38"
      }
    },
    {
      "cell_type": "code",
      "source": [
        "grado=nx.degree(G)\n",
        "grado\n"
      ],
      "metadata": {
        "colab": {
          "base_uri": "https://localhost:8080/"
        },
        "id": "w7A2H3zN4Vup",
        "outputId": "06e402c4-7e03-40a5-b319-7e4b9f38f263"
      },
      "execution_count": 13,
      "outputs": [
        {
          "output_type": "execute_result",
          "data": {
            "text/plain": [
              "DiDegreeView({'A': 2, 'B': 3, 'C': 3, 'D': 2})"
            ]
          },
          "metadata": {},
          "execution_count": 13
        }
      ]
    },
    {
      "cell_type": "markdown",
      "source": [
        "29/09/2025\n"
      ],
      "metadata": {
        "id": "rcL8aTwDfyJL"
      }
    },
    {
      "cell_type": "markdown",
      "source": [
        "##Árbol de expansión mínimo\n",
        "nx.minimum_spanning_tree ( G , peso = 'peso' , algoritmo = 'kruskal' , ignore_nan = False )"
      ],
      "metadata": {
        "id": "k9uv26e9f4ir"
      }
    },
    {
      "cell_type": "markdown",
      "source": [
        "Parámetros:\n",
        "GRAMO\n",
        "grafo no dirigido\n",
        "Un grafo no dirigido. Si G es conexo, el algoritmo encuentra un árbol de expansión. De lo contrario, se encuentra un bosque de expansión.\n",
        "\n",
        "peso\n",
        "cadena\n",
        "Clave de datos a utilizar para los pesos de los bordes.\n",
        "\n",
        "algoritmo\n",
        "cadena\n",
        "El algoritmo que se utiliza para encontrar un árbol de expansión mínimo. Las opciones válidas son 'kruskal', 'prim' o 'boruvka'. El valor predeterminado es 'kruskal'.\n",
        "\n",
        "ignorar_nan\n",
        "bool (predeterminado: Falso)\n",
        "Si se encuentra un NaN como peso de arista, normalmente se genera una excepción. En ese caso, se ignora esa arista.ignore_nan is True"
      ],
      "metadata": {
        "id": "0ewc5nWRjkqX"
      }
    },
    {
      "cell_type": "markdown",
      "source": [
        "Devoluciones:\n",
        "GRAMO\n",
        "Gráfico de NetworkX\n",
        "Un árbol o bosque de expansión mínima."
      ],
      "metadata": {
        "id": "ftWKZOXvjyMn"
      }
    },
    {
      "cell_type": "code",
      "source": [
        "G = nx.cycle_graph(4)\n",
        "G.add_edge(0, 3, weight=2)\n",
        "T = nx.minimum_spanning_tree(G)\n",
        "sorted(T.edges(data=True))\n",
        "[(0, 1, {}), (1, 2, {}), (2, 3, {})]"
      ],
      "metadata": {
        "colab": {
          "base_uri": "https://localhost:8080/"
        },
        "id": "bbG3ZGvcj9k_",
        "outputId": "3277b18c-79e9-46d2-db3b-d66b39768798"
      },
      "execution_count": 14,
      "outputs": [
        {
          "output_type": "execute_result",
          "data": {
            "text/plain": [
              "[(0, 1, {}), (1, 2, {}), (2, 3, {})]"
            ]
          },
          "metadata": {},
          "execution_count": 14
        }
      ]
    },
    {
      "cell_type": "markdown",
      "source": [
        "##RUTA MAS CORTA"
      ],
      "metadata": {
        "id": "H7JzBISFkhfm"
      }
    },
    {
      "cell_type": "markdown",
      "source": [
        "Nombre\tDescripción\tEnlace\n",
        "\n",
        "-Algoritmo de Dijkstra\tEncuentra la ruta más corta desde un nodo de origen al nodo de destino si los pesos en los bordes son valores no negativos.\n",
        "\n",
        "-Algoritmo de Bellman-Ford\tEncuentre la ruta más corta desde un nodo de origen al nodo de destino cuando los pesos de los bordes pueden ser negativos.\n",
        "\n",
        "-Algoritmo de búsqueda A*\tEncuentra la ruta más corta entre el par de nodos utilizando métodos heurísticos.\n",
        "\n",
        "-Algoritmo de Floyd-Warshall\tEncuentra todas las rutas más cortas entre cada par de nodos en un gráfico.\n",
        "\n",
        "-Algoritmo de Johnson\tEncuentra todas las rutas más cortas entre cada par de nodos en un gráfico dirigido combinando los algoritmos de Dijkstra y Bellman-Ford.\n",
        "\n"
      ],
      "metadata": {
        "id": "FXv6F3pGkpGm"
      }
    },
    {
      "cell_type": "code",
      "source": [
        "G = nx.path_graph(5)\n",
        "print(nx.shortest_path(G, source=0, target=4))\n",
        "\n",
        "p = nx.shortest_path(G, source=0)  # target not specified\n",
        "p[3]  # shortest path from source=0 to target=3\n",
        "\n",
        "p = nx.shortest_path(G, target=4)  # source not specified\n",
        "p[1]  # shortest path from source=1 to target=4\n",
        "\n",
        "p = dict(nx.shortest_path(G))  # source, target not specified\n",
        "p[2][4]  # shortest path from source=2 to target=4\n"
      ],
      "metadata": {
        "colab": {
          "base_uri": "https://localhost:8080/"
        },
        "id": "2klisZLqmKpd",
        "outputId": "3e9b2979-8bdf-480d-8a30-7c646f71ea71"
      },
      "execution_count": 16,
      "outputs": [
        {
          "output_type": "stream",
          "name": "stdout",
          "text": [
            "[0, 1, 2, 3, 4]\n"
          ]
        },
        {
          "output_type": "execute_result",
          "data": {
            "text/plain": [
              "[2, 3, 4]"
            ]
          },
          "metadata": {},
          "execution_count": 16
        }
      ]
    },
    {
      "cell_type": "markdown",
      "source": [
        "##Flujo máximo\n",
        "caudal_máximo ( flujoG , _s , _t , capacidad = 'capacidad' , función_flujo = Ninguna , ** kwargs )"
      ],
      "metadata": {
        "id": "PpH93vDxlGWu"
      }
    },
    {
      "cell_type": "markdown",
      "source": [
        "**Parámetros**\n",
        "\n",
        "flujoG\n",
        "Gráfico de NetworkX\n",
        "Se espera que las aristas del grafo tengan un atributo llamado \"capacidad\". Si este atributo no está presente, se considera que la arista tiene capacidad infinita.\n",
        "\n",
        "_s\n",
        "nodo\n",
        "Nodo fuente del flujo.\n",
        "\n",
        "_t\n",
        "nodo\n",
        "Nodo sumidero para el flujo.\n",
        "\n",
        "capacidad\n",
        "cadena\n",
        "Se espera que los bordes del grafo G tengan un atributo llamado capacidad, que indica cuánto flujo pueden soportar. Si este atributo no está presente, se considera que el borde tiene capacidad infinita. Valor predeterminado: 'capacidad'.\n",
        "\n",
        "función de flujo\n",
        "función\n",
        "Una función para calcular el flujo máximo entre un par de nodos en un grafo capacitado. La función debe aceptar al menos tres parámetros: un grafo o dígrafo, un nodo de origen y un nodo de destino. Además, devuelve una red residual que sigue las convenciones de NetworkX (véanse las Notas). Si flow_func es None, preflow_push()se utiliza la función de flujo máximo predeterminada ( ). Consulte a continuación algoritmos alternativos. La elección de la función predeterminada puede variar según la versión y no debe confiarse en ella. Valor predeterminado: None.\n",
        "\n",
        "kwargs\n",
        "Cualquier otro parámetro de palabra clave se pasa a la función que\n",
        "Calcula el caudal máximo.\n",
        "\n",
        "**Devoluciones:**\n",
        "valor_de_flujo\n",
        "entero, flotante\n",
        "Valor del caudal máximo, es decir, caudal neto saliente de la fuente.\n",
        "\n",
        "diccionario de flujo\n",
        "dictado\n",
        "Un diccionario que contiene el valor del flujo que pasó por cada borde.\n",
        "\n",
        "**Aumenta:**\n",
        "Error de red X\n",
        "El algoritmo no admite MultiGraph ni MultiDiGraph. Si el gráfico de entrada es una instancia de una de estas dos clases, se genera un error NetworkXError.\n",
        "\n",
        "Red sin límites\n",
        "Si el gráfico tiene un camino de capacidad infinita, el valor de un flujo factible en el gráfico no está acotado por encima y la función genera un NetworkXUnbounded."
      ],
      "metadata": {
        "id": "AFSwaVVyleYt"
      }
    },
    {
      "cell_type": "markdown",
      "source": [
        "###EJEMPLO\n"
      ],
      "metadata": {
        "id": "vI4Z5BWulxut"
      }
    },
    {
      "cell_type": "code",
      "source": [
        "G = nx.DiGraph()\n",
        "G.add_edge(\"x\", \"a\", capacity=3.0)\n",
        "G.add_edge(\"x\", \"b\", capacity=1.0)\n",
        "G.add_edge(\"a\", \"c\", capacity=3.0)\n",
        "G.add_edge(\"b\", \"c\", capacity=5.0)\n",
        "G.add_edge(\"b\", \"d\", capacity=4.0)\n",
        "G.add_edge(\"d\", \"e\", capacity=2.0)\n",
        "G.add_edge(\"c\", \"y\", capacity=2.0)\n",
        "G.add_edge(\"e\", \"y\", capacity=3.0)"
      ],
      "metadata": {
        "id": "8B-awTXul0qN"
      },
      "execution_count": null,
      "outputs": []
    },
    {
      "cell_type": "code",
      "source": [
        "flow_value, flow_dict = nx.maximum_flow(G, \"x\", \"y\")\n",
        "flow_value\n",
        "\n",
        "print(flow_dict[\"x\"][\"b\"])\n"
      ],
      "metadata": {
        "id": "fpeqTmfsl3qt"
      },
      "execution_count": null,
      "outputs": []
    },
    {
      "cell_type": "code",
      "source": [
        "from networkx.algorithms.flow import shortest_augmenting_path\n",
        "flow_value == nx.maximum_flow(G, \"x\", \"y\", flow_func=shortest_augmenting_path)[\n",
        "    0\n",
        "]\n",
        "True"
      ],
      "metadata": {
        "id": "kdRAvs6wl-V9"
      },
      "execution_count": null,
      "outputs": []
    }
  ]
}